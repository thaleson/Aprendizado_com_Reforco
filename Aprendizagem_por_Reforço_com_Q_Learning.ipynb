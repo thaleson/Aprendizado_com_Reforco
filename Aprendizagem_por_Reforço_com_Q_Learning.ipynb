{
  "nbformat": 4,
  "nbformat_minor": 0,
  "metadata": {
    "colab": {
      "provenance": [],
      "include_colab_link": true
    },
    "kernelspec": {
      "name": "python3",
      "display_name": "Python 3"
    }
  },
  "cells": [
    {
      "cell_type": "markdown",
      "metadata": {
        "id": "view-in-github",
        "colab_type": "text"
      },
      "source": [
        "<a href=\"https://colab.research.google.com/github/thaleson/Aprendizado_com_Reforco/blob/main/Aprendizagem_por_Refor%C3%A7o_com_Q_Learning.ipynb\" target=\"_parent\"><img src=\"https://colab.research.google.com/assets/colab-badge.svg\" alt=\"Open In Colab\"/></a>"
      ]
    },
    {
      "cell_type": "markdown",
      "metadata": {
        "id": "dbtVGcfvznpA"
      },
      "source": [
        "# Aprendizagem por Reforço com Q-Learning\n",
        "\n",
        "- Código adaptado de: https://www.learndatasci.com/tutorials/reinforcement-q-learning-scratch-python-openai-gym/"
      ]
    },
    {
      "cell_type": "code",
      "source": [
        "!pip uninstall gym"
      ],
      "metadata": {
        "colab": {
          "base_uri": "https://localhost:8080/"
        },
        "id": "Ttew5heZLUEV",
        "outputId": "fd6d4d8a-56b8-4e5c-f6e0-883251063531"
      },
      "execution_count": 1,
      "outputs": [
        {
          "output_type": "stream",
          "name": "stdout",
          "text": [
            "Found existing installation: gym 0.25.2\n",
            "Uninstalling gym-0.25.2:\n",
            "  Would remove:\n",
            "    /usr/local/lib/python3.10/dist-packages/gym-0.25.2.dist-info/*\n",
            "    /usr/local/lib/python3.10/dist-packages/gym/*\n",
            "Proceed (Y/n)? y\n",
            "  Successfully uninstalled gym-0.25.2\n"
          ]
        }
      ]
    },
    {
      "cell_type": "code",
      "source": [
        "!pip install gym==0.15.7 # Use esta versão para conseguir visualizar o ambiente"
      ],
      "metadata": {
        "id": "JjVHumAJQeng",
        "colab": {
          "base_uri": "https://localhost:8080/"
        },
        "outputId": "ed189a37-662d-4cbb-dac8-f063ea1a1fea"
      },
      "execution_count": 2,
      "outputs": [
        {
          "output_type": "stream",
          "name": "stdout",
          "text": [
            "Collecting gym==0.15.7\n",
            "  Downloading gym-0.15.7.tar.gz (1.6 MB)\n",
            "\u001b[2K     \u001b[90m━━━━━━━━━━━━━━━━━━━━━━━━━━━━━━━━━━━━━━━━\u001b[0m \u001b[32m1.6/1.6 MB\u001b[0m \u001b[31m6.1 MB/s\u001b[0m eta \u001b[36m0:00:00\u001b[0m\n",
            "\u001b[?25h  Preparing metadata (setup.py) ... \u001b[?25l\u001b[?25hdone\n",
            "Requirement already satisfied: scipy in /usr/local/lib/python3.10/dist-packages (from gym==0.15.7) (1.11.4)\n",
            "Requirement already satisfied: numpy>=1.10.4 in /usr/local/lib/python3.10/dist-packages (from gym==0.15.7) (1.25.2)\n",
            "Requirement already satisfied: six in /usr/local/lib/python3.10/dist-packages (from gym==0.15.7) (1.16.0)\n",
            "Collecting pyglet<=1.5.0,>=1.4.0 (from gym==0.15.7)\n",
            "  Downloading pyglet-1.5.0-py2.py3-none-any.whl (1.0 MB)\n",
            "\u001b[2K     \u001b[90m━━━━━━━━━━━━━━━━━━━━━━━━━━━━━━━━━━━━━━━━\u001b[0m \u001b[32m1.0/1.0 MB\u001b[0m \u001b[31m24.4 MB/s\u001b[0m eta \u001b[36m0:00:00\u001b[0m\n",
            "\u001b[?25hCollecting cloudpickle~=1.2.0 (from gym==0.15.7)\n",
            "  Downloading cloudpickle-1.2.2-py2.py3-none-any.whl (25 kB)\n",
            "Requirement already satisfied: future in /usr/local/lib/python3.10/dist-packages (from pyglet<=1.5.0,>=1.4.0->gym==0.15.7) (0.18.3)\n",
            "Building wheels for collected packages: gym\n",
            "  Building wheel for gym (setup.py) ... \u001b[?25l\u001b[?25hdone\n",
            "  Created wheel for gym: filename=gym-0.15.7-py3-none-any.whl size=1648805 sha256=0e2d6fc77cd94aa315e5b0c5076176b19261fb12576cd038b32b9b94de8c9736\n",
            "  Stored in directory: /root/.cache/pip/wheels/09/34/69/e1c9061afff9529cff995b1861b5e88c31b845dbb28ea1c9d6\n",
            "Successfully built gym\n",
            "Installing collected packages: cloudpickle, pyglet, gym\n",
            "  Attempting uninstall: cloudpickle\n",
            "    Found existing installation: cloudpickle 2.2.1\n",
            "    Uninstalling cloudpickle-2.2.1:\n",
            "      Successfully uninstalled cloudpickle-2.2.1\n",
            "\u001b[31mERROR: pip's dependency resolver does not currently take into account all the packages that are installed. This behaviour is the source of the following dependency conflicts.\n",
            "bigframes 1.6.0 requires cloudpickle>=2.0.0, but you have cloudpickle 1.2.2 which is incompatible.\n",
            "dask 2023.8.1 requires cloudpickle>=1.5.0, but you have cloudpickle 1.2.2 which is incompatible.\n",
            "distributed 2023.8.1 requires cloudpickle>=1.5.0, but you have cloudpickle 1.2.2 which is incompatible.\n",
            "tensorflow-probability 0.23.0 requires cloudpickle>=1.3, but you have cloudpickle 1.2.2 which is incompatible.\u001b[0m\u001b[31m\n",
            "\u001b[0mSuccessfully installed cloudpickle-1.2.2 gym-0.15.7 pyglet-1.5.0\n"
          ]
        }
      ]
    },
    {
      "cell_type": "markdown",
      "metadata": {
        "id": "gWpVbNlZ76Mt"
      },
      "source": [
        "## Entendimento do ambiente"
      ]
    },
    {
      "cell_type": "code",
      "metadata": {
        "id": "WIGeAIonqhAO"
      },
      "source": [
        "import gym\n",
        "import random\n",
        "import os\n",
        "os.environ[\"SDL_VIDEODRIVER\"] = \"dummy\""
      ],
      "execution_count": 3,
      "outputs": []
    },
    {
      "cell_type": "code",
      "metadata": {
        "id": "basKM7zoqn9D"
      },
      "source": [
        "env = gym.make('Taxi-v3')"
      ],
      "execution_count": 4,
      "outputs": []
    },
    {
      "cell_type": "code",
      "source": [
        "env.reset()"
      ],
      "metadata": {
        "colab": {
          "base_uri": "https://localhost:8080/"
        },
        "id": "6HRRc93skpAv",
        "outputId": "b475eeef-5432-4dbf-cea4-1ad88e5aa083"
      },
      "execution_count": 21,
      "outputs": [
        {
          "output_type": "execute_result",
          "data": {
            "text/plain": [
              "67"
            ]
          },
          "metadata": {},
          "execution_count": 21
        }
      ]
    },
    {
      "cell_type": "code",
      "metadata": {
        "id": "KIzbNvCcqxpY",
        "colab": {
          "base_uri": "https://localhost:8080/"
        },
        "outputId": "b168140c-f280-472b-afd3-fbd4f2a81f19"
      },
      "source": [
        "env.render('human')"
      ],
      "execution_count": 20,
      "outputs": [
        {
          "output_type": "stream",
          "name": "stdout",
          "text": [
            "+---------+\n",
            "|R: | : :G|\n",
            "| : | : : |\n",
            "| : : : : |\n",
            "| | : | : |\n",
            "|Y| : |\u001b[35m\u001b[34;1m\u001b[43mB\u001b[0m\u001b[0m\u001b[0m: |\n",
            "+---------+\n",
            "  (Dropoff)\n"
          ]
        }
      ]
    },
    {
      "cell_type": "code",
      "metadata": {
        "id": "XXyowD8XrUHa",
        "colab": {
          "base_uri": "https://localhost:8080/"
        },
        "outputId": "0e7d606b-6700-4d2a-e6e4-5832379d4fb2"
      },
      "source": [
        "env.reset()\n",
        "env.render()"
      ],
      "execution_count": 7,
      "outputs": [
        {
          "output_type": "stream",
          "name": "stdout",
          "text": [
            "+---------+\n",
            "|R: | : :\u001b[34;1mG\u001b[0m|\n",
            "| : | : : |\n",
            "| : : : : |\n",
            "| | :\u001b[43m \u001b[0m| : |\n",
            "|\u001b[35mY\u001b[0m| : |B: |\n",
            "+---------+\n",
            "\n"
          ]
        }
      ]
    },
    {
      "cell_type": "code",
      "metadata": {
        "id": "BYHMClQUrktw",
        "colab": {
          "base_uri": "https://localhost:8080/"
        },
        "outputId": "5a753fc6-9610-4717-eaed-88174919ba26"
      },
      "source": [
        "# 0 = south 1 = north 2 = east 3 = west 4 = pickup 5 = dropoff\n",
        "print(env.action_space)"
      ],
      "execution_count": 8,
      "outputs": [
        {
          "output_type": "stream",
          "name": "stdout",
          "text": [
            "Discrete(6)\n"
          ]
        }
      ]
    },
    {
      "cell_type": "code",
      "metadata": {
        "id": "ZacFKvNJs0iw",
        "colab": {
          "base_uri": "https://localhost:8080/"
        },
        "outputId": "bb0d6625-19f8-4293-9942-60cd90d0e7a2"
      },
      "source": [
        "#5*5*5*4 -- Atualizado 22/11/2022 ref. https://www.gymlibrary.dev/environments/toy_text/taxi/#observations\n",
        "25*5*4"
      ],
      "execution_count": 9,
      "outputs": [
        {
          "output_type": "execute_result",
          "data": {
            "text/plain": [
              "500"
            ]
          },
          "metadata": {},
          "execution_count": 9
        }
      ]
    },
    {
      "cell_type": "code",
      "metadata": {
        "id": "S_WmsdqlsRMh",
        "colab": {
          "base_uri": "https://localhost:8080/"
        },
        "outputId": "72e815a6-4862-4f67-91ff-273a14e8d03f"
      },
      "source": [
        "# 4 destinos do táxi\n",
        "print(env.observation_space)"
      ],
      "execution_count": 10,
      "outputs": [
        {
          "output_type": "stream",
          "name": "stdout",
          "text": [
            "Discrete(500)\n"
          ]
        }
      ]
    },
    {
      "cell_type": "code",
      "metadata": {
        "id": "8frXtYn0tJxp",
        "colab": {
          "base_uri": "https://localhost:8080/"
        },
        "outputId": "cfb755f0-8c00-4080-f19d-83a734689640"
      },
      "source": [
        "len(env.P)"
      ],
      "execution_count": 11,
      "outputs": [
        {
          "output_type": "execute_result",
          "data": {
            "text/plain": [
              "500"
            ]
          },
          "metadata": {},
          "execution_count": 11
        }
      ]
    },
    {
      "cell_type": "code",
      "metadata": {
        "id": "kHdk1TtwtOxN",
        "colab": {
          "base_uri": "https://localhost:8080/"
        },
        "outputId": "c5d8453b-2a53-44d6-b4cb-28f7524f26fd"
      },
      "source": [
        "env.P[484]"
      ],
      "execution_count": 12,
      "outputs": [
        {
          "output_type": "execute_result",
          "data": {
            "text/plain": [
              "{0: [(1.0, 484, -1, False)],\n",
              " 1: [(1.0, 384, -1, False)],\n",
              " 2: [(1.0, 484, -1, False)],\n",
              " 3: [(1.0, 464, -1, False)],\n",
              " 4: [(1.0, 484, -10, False)],\n",
              " 5: [(1.0, 484, -10, False)]}"
            ]
          },
          "metadata": {},
          "execution_count": 12
        }
      ]
    },
    {
      "cell_type": "markdown",
      "metadata": {
        "id": "DSqzniKRuOgM"
      },
      "source": [
        "## Treinamento"
      ]
    },
    {
      "cell_type": "markdown",
      "metadata": {
        "id": "ctB8oHDfjTi2"
      },
      "source": [
        "Diferença temporal (Q-learning)\n",
        "\n",
        "![image.png](data:image/png;base64,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)"
      ]
    },
    {
      "cell_type": "code",
      "metadata": {
        "id": "awLExkHyyhvH",
        "colab": {
          "base_uri": "https://localhost:8080/"
        },
        "outputId": "ad71da12-cb78-4a3a-92be-954964d9f270"
      },
      "source": [
        "random.uniform(0, 1)"
      ],
      "execution_count": null,
      "outputs": [
        {
          "output_type": "execute_result",
          "data": {
            "text/plain": [
              "0.35171589313437146"
            ]
          },
          "metadata": {},
          "execution_count": 14
        }
      ]
    },
    {
      "cell_type": "code",
      "metadata": {
        "id": "-MX-5o6xy6VI",
        "colab": {
          "base_uri": "https://localhost:8080/"
        },
        "outputId": "91905c9e-734c-4330-8f94-d5f5e4084de6"
      },
      "source": [
        "env.action_space"
      ],
      "execution_count": null,
      "outputs": [
        {
          "output_type": "execute_result",
          "data": {
            "text/plain": [
              "Discrete(6)"
            ]
          },
          "metadata": {},
          "execution_count": 15
        }
      ]
    },
    {
      "cell_type": "code",
      "metadata": {
        "id": "QAV7SlcXzIM2",
        "colab": {
          "base_uri": "https://localhost:8080/"
        },
        "outputId": "c376f6d0-9aae-477b-f047-e33f52e3184a"
      },
      "source": [
        "import numpy as np\n",
        "q_table = np.zeros([env.observation_space.n, env.action_space.n])\n",
        "q_table.shape"
      ],
      "execution_count": 13,
      "outputs": [
        {
          "output_type": "execute_result",
          "data": {
            "text/plain": [
              "(500, 6)"
            ]
          },
          "metadata": {},
          "execution_count": 13
        }
      ]
    },
    {
      "cell_type": "markdown",
      "source": [
        "**Este código cria e exibe uma matriz q_table que armazena os valores Q para cada par de estado-ação. Aqui estão os principais pontos**"
      ],
      "metadata": {
        "id": "tlXFAIxKQPJQ"
      }
    },
    {
      "cell_type": "code",
      "source": [],
      "metadata": {
        "id": "NkMSNu8GQNhH"
      },
      "execution_count": null,
      "outputs": []
    },
    {
      "cell_type": "code",
      "metadata": {
        "id": "Lykvxww5zits",
        "colab": {
          "base_uri": "https://localhost:8080/"
        },
        "outputId": "b9d1480b-4087-4cea-964a-a73cb36ddc5a"
      },
      "source": [
        "q_table"
      ],
      "execution_count": 14,
      "outputs": [
        {
          "output_type": "execute_result",
          "data": {
            "text/plain": [
              "array([[0., 0., 0., 0., 0., 0.],\n",
              "       [0., 0., 0., 0., 0., 0.],\n",
              "       [0., 0., 0., 0., 0., 0.],\n",
              "       ...,\n",
              "       [0., 0., 0., 0., 0., 0.],\n",
              "       [0., 0., 0., 0., 0., 0.],\n",
              "       [0., 0., 0., 0., 0., 0.]])"
            ]
          },
          "metadata": {},
          "execution_count": 14
        }
      ]
    },
    {
      "cell_type": "code",
      "source": [
        "# Cria um array numpy com os elementos 3 e 5\n",
        "array = np.array([3, 5])\n",
        "\n",
        "# Retorna o índice do maior elemento no array\n",
        "indice_maior_elemento = np.argmax(array)\n",
        "\n",
        "# Exibe o índice do maior elemento\n",
        "print(\"O índice do maior elemento no array é:\", indice_maior_elemento)\n"
      ],
      "metadata": {
        "colab": {
          "base_uri": "https://localhost:8080/"
        },
        "id": "PyHamaR_P4JA",
        "outputId": "7f07a79a-ae60-48c4-ca1f-3e2583741c7d"
      },
      "execution_count": 33,
      "outputs": [
        {
          "output_type": "stream",
          "name": "stdout",
          "text": [
            "O índice do maior elemento no array é: 1\n"
          ]
        }
      ]
    },
    {
      "cell_type": "markdown",
      "source": [
        "# **Definindo os parâmetros do algoritmo**"
      ],
      "metadata": {
        "id": "EJIP9S2LPmxi"
      }
    },
    {
      "cell_type": "code",
      "source": [
        "alpha = 0.1  # Taxa de aprendizado\n",
        "gamma = 0.6  # Fator de desconto\n",
        "epsilon = 0.1  # Taxa de exploração\n",
        "\n",
        "# Laço principal de treinamento\n",
        "for i in range(100000):\n",
        "    # Resetando o ambiente para o início de um novo episódio\n",
        "    estado = env.reset()\n",
        "\n",
        "    penalidades, recompensa = 0, 0\n",
        "    done = False\n",
        "\n",
        "    # Executando o episódio até o término\n",
        "    while not done:\n",
        "        # Selecionando uma ação com base na estratégia de exploração/exploitation\n",
        "        if random.uniform(0, 1) < epsilon:\n",
        "            acao = env.action_space.sample()  # Exploração\n",
        "        else:\n",
        "            acao = np.argmax(q_table[estado])  # Exploitation\n",
        "\n",
        "        # Executando a ação no ambiente e observando o próximo estado e recompensa\n",
        "        proximo_estado, recompensa, done, info = env.step(acao)\n",
        "\n",
        "        # Atualizando a função Q\n",
        "        q_antigo = q_table[estado, acao]\n",
        "        proximo_maximo = np.max(q_table[proximo_estado])\n",
        "        q_novo = (1 - alpha) * q_antigo + alpha * (recompensa + gamma * proximo_maximo)\n",
        "        q_table[estado, acao] = q_novo\n",
        "\n",
        "        # Contabilizando penalidades (se houver)\n",
        "        if recompensa == -10:\n",
        "            penalidades += 1\n",
        "\n",
        "        estado = proximo_estado  # Atualizando o estado atual para o próximo estado\n",
        "\n",
        "    # Exibindo o progresso a cada 100 episódios\n",
        "    if i % 100 == 0:\n",
        "        clear_output(wait=True)\n",
        "        print('Episódio: ', i)\n",
        "\n",
        "# Informando que o treinamento foi concluído\n",
        "print('Treinamento concluído')\n"
      ],
      "metadata": {
        "id": "9m9AR_urPfYQ"
      },
      "execution_count": null,
      "outputs": []
    },
    {
      "cell_type": "code",
      "source": [
        "# Índice específico da q_table a ser consultado\n",
        "indice_estado = 346\n",
        "\n",
        "# Consultando a linha correspondente ao estado específico na q_table\n",
        "valores_q_estado = q_table[indice_estado]\n",
        "\n",
        "# Exibindo os valores Q para o estado específico\n",
        "print(\"Valores Q para o estado\", indice_estado, \":\")\n",
        "print(valores_q_estado)\n"
      ],
      "metadata": {
        "colab": {
          "base_uri": "https://localhost:8080/"
        },
        "id": "_uD2A8zbQsdu",
        "outputId": "6c8739ad-6f6a-4f86-fb12-7289ddd5759c"
      },
      "execution_count": 36,
      "outputs": [
        {
          "output_type": "stream",
          "name": "stdout",
          "text": [
            "Valores Q para o estado 346 :\n",
            "[ -2.4930175   -2.48236806  -2.48830021  -2.49267335 -10.61949479\n",
            " -11.13475012]\n"
          ]
        }
      ]
    },
    {
      "cell_type": "code",
      "metadata": {
        "id": "B7KhBHIq6Atb",
        "colab": {
          "base_uri": "https://localhost:8080/"
        },
        "outputId": "015fb002-9e27-411e-a70e-ae114830250c"
      },
      "source": [
        "env.reset()\n",
        "env.render()"
      ],
      "execution_count": 23,
      "outputs": [
        {
          "output_type": "stream",
          "name": "stdout",
          "text": [
            "+---------+\n",
            "|\u001b[35mR\u001b[0m: | : :\u001b[43mG\u001b[0m|\n",
            "| : | : : |\n",
            "| : : : : |\n",
            "| | : | : |\n",
            "|Y| : |\u001b[34;1mB\u001b[0m: |\n",
            "+---------+\n",
            "\n"
          ]
        }
      ]
    },
    {
      "cell_type": "code",
      "metadata": {
        "id": "IRDT7quT9QT6",
        "colab": {
          "base_uri": "https://localhost:8080/"
        },
        "outputId": "702de1f2-900f-4f01-9ed7-d9f9e13917b7"
      },
      "source": [
        "env.step(1)\n",
        "env.render()"
      ],
      "execution_count": 24,
      "outputs": [
        {
          "output_type": "stream",
          "name": "stdout",
          "text": [
            "+---------+\n",
            "|\u001b[35mR\u001b[0m: | : :\u001b[43mG\u001b[0m|\n",
            "| : | : : |\n",
            "| : : : : |\n",
            "| | : | : |\n",
            "|Y| : |\u001b[34;1mB\u001b[0m: |\n",
            "+---------+\n",
            "  (North)\n"
          ]
        }
      ]
    },
    {
      "cell_type": "code",
      "metadata": {
        "id": "fKyDrFdU9Ya2",
        "colab": {
          "base_uri": "https://localhost:8080/"
        },
        "outputId": "1118dcc6-8360-4619-8f95-caa18eb441bd"
      },
      "source": [
        "env.step(1)\n",
        "env.render()"
      ],
      "execution_count": 25,
      "outputs": [
        {
          "output_type": "stream",
          "name": "stdout",
          "text": [
            "+---------+\n",
            "|\u001b[35mR\u001b[0m: | : :\u001b[43mG\u001b[0m|\n",
            "| : | : : |\n",
            "| : : : : |\n",
            "| | : | : |\n",
            "|Y| : |\u001b[34;1mB\u001b[0m: |\n",
            "+---------+\n",
            "  (North)\n"
          ]
        }
      ]
    },
    {
      "cell_type": "code",
      "metadata": {
        "id": "63ym8WSi6WPu",
        "colab": {
          "base_uri": "https://localhost:8080/"
        },
        "outputId": "7e7c405a-5b3e-49a7-f025-6778f119e029"
      },
      "source": [
        "env.encode(3, 2, 1, 2)"
      ],
      "execution_count": 26,
      "outputs": [
        {
          "output_type": "execute_result",
          "data": {
            "text/plain": [
              "346"
            ]
          },
          "metadata": {},
          "execution_count": 26
        }
      ]
    },
    {
      "cell_type": "markdown",
      "metadata": {
        "id": "_4qsphgp4IGw"
      },
      "source": [
        "## Avaliação"
      ]
    },
    {
      "cell_type": "code",
      "metadata": {
        "id": "QYRetOro8V-2",
        "colab": {
          "base_uri": "https://localhost:8080/"
        },
        "outputId": "4b962aea-e017-4604-c641-a23a31bf5043"
      },
      "source": [
        "total_penalidades = 0  # Inicializa o contador de penalidades\n",
        "episodios = 50  # Número de episódios a serem executados\n",
        "frames = []  # Lista para armazenar informações sobre cada etapa do episódio\n",
        "\n",
        "# Loop sobre os episódios\n",
        "for _ in range(episodios):\n",
        "    estado = env.reset()  # Reinicia o ambiente e obtém o estado inicial\n",
        "    penalidades, recompensa = 0, 0  # Inicializa os contadores de penalidades e recompensas\n",
        "    done = False  # Inicializa a variável que indica se o episódio está completo\n",
        "\n",
        "    # Loop até o episódio ser concluído\n",
        "    while not done:\n",
        "        acao = np.argmax(q_table[estado])  # Escolhe a ação com base nos valores Q\n",
        "        estado, recompensa, done, info = env.step(acao)  # Executa a ação e obtém o próximo estado, recompensa e se o episódio está completo\n",
        "\n",
        "        if recompensa == -10:  # Verifica se houve penalidade\n",
        "            penalidades += 1  # Incrementa o contador de penalidades\n",
        "\n",
        "        # Armazena informações sobre a etapa atual do episódio\n",
        "        frames.append({\n",
        "            'frame': env.render(mode='ansi'),  # Representação do ambiente em formato de texto\n",
        "            'state': estado,  # Estado atual\n",
        "            'action': acao,  # Ação executada\n",
        "            'reward': recompensa  # Recompensa obtida\n",
        "        })\n",
        "\n",
        "    total_penalidades += penalidades  # Acumula o número total de penalidades durante todos os episódios\n",
        "\n",
        "# Exibe informações sobre o treinamento\n",
        "print('Episódios:', episodios)\n",
        "print('Penalidades:', total_penalidades)\n"
      ],
      "execution_count": 37,
      "outputs": [
        {
          "output_type": "stream",
          "name": "stdout",
          "text": [
            "Episódios: 50\n",
            "Penalidades: 0\n"
          ]
        }
      ]
    },
    {
      "cell_type": "code",
      "metadata": {
        "id": "pBSpipLW_E2g",
        "colab": {
          "base_uri": "https://localhost:8080/"
        },
        "outputId": "b026d8d2-8307-41ad-bf83-d796009890ae"
      },
      "source": [
        "from time import sleep  # Importa a função sleep do módulo time\n",
        "\n",
        "# Loop sobre cada etapa do episódio armazenada em frames\n",
        "for frame in frames:\n",
        "    clear_output(wait=True)  # Limpa a saída para exibir apenas o próximo frame\n",
        "    print(frame['frame'])  # Imprime a representação do ambiente em formato de texto\n",
        "    print('Estado:', frame['state'])  # Imprime o estado atual\n",
        "    print('Ação:', frame['action'])  # Imprime a ação executada\n",
        "    print('Recompensa:', frame['reward'])  # Imprime a recompensa obtida\n",
        "    sleep(0.5)  # Aguarda 0.5 segundos antes de exibir o próximo frame\n"
      ],
      "execution_count": null,
      "outputs": [
        {
          "output_type": "stream",
          "name": "stdout",
          "text": [
            "+---------+\n",
            "|\u001b[35m\u001b[34;1m\u001b[43mR\u001b[0m\u001b[0m\u001b[0m: | : :G|\n",
            "| : | : : |\n",
            "| : : : : |\n",
            "| | : | : |\n",
            "|Y| : |B: |\n",
            "+---------+\n",
            "  (Dropoff)\n",
            "\n",
            "Estado: 0\n",
            "Ação: 5\n",
            "Recompensa: 20\n"
          ]
        }
      ]
    }
  ]
}